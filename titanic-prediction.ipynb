{
 "cells": [
  {
   "cell_type": "code",
   "execution_count": 1,
   "id": "27359d05",
   "metadata": {
    "_cell_guid": "b1076dfc-b9ad-4769-8c92-a6c4dae69d19",
    "_uuid": "8f2839f25d086af736a60e9eeb907d3b93b6e0e5",
    "execution": {
     "iopub.execute_input": "2023-09-04T11:02:24.531907Z",
     "iopub.status.busy": "2023-09-04T11:02:24.530869Z",
     "iopub.status.idle": "2023-09-04T11:02:28.053444Z",
     "shell.execute_reply": "2023-09-04T11:02:28.050543Z"
    },
    "papermill": {
     "duration": 3.54468,
     "end_time": "2023-09-04T11:02:28.057856",
     "exception": false,
     "start_time": "2023-09-04T11:02:24.513176",
     "status": "completed"
    },
    "tags": []
   },
   "outputs": [
    {
     "name": "stdout",
     "output_type": "stream",
     "text": [
      "/kaggle/input/test-file/tested.csv\n"
     ]
    },
    {
     "data": {
      "text/html": [
       "<div>\n",
       "<style scoped>\n",
       "    .dataframe tbody tr th:only-of-type {\n",
       "        vertical-align: middle;\n",
       "    }\n",
       "\n",
       "    .dataframe tbody tr th {\n",
       "        vertical-align: top;\n",
       "    }\n",
       "\n",
       "    .dataframe thead th {\n",
       "        text-align: right;\n",
       "    }\n",
       "</style>\n",
       "<table border=\"1\" class=\"dataframe\">\n",
       "  <thead>\n",
       "    <tr style=\"text-align: right;\">\n",
       "      <th></th>\n",
       "      <th>PassengerId</th>\n",
       "      <th>Survived</th>\n",
       "      <th>Pclass</th>\n",
       "      <th>Name</th>\n",
       "      <th>Sex</th>\n",
       "      <th>Age</th>\n",
       "      <th>SibSp</th>\n",
       "      <th>Parch</th>\n",
       "      <th>Ticket</th>\n",
       "      <th>Fare</th>\n",
       "      <th>Cabin</th>\n",
       "      <th>Embarked</th>\n",
       "    </tr>\n",
       "  </thead>\n",
       "  <tbody>\n",
       "    <tr>\n",
       "      <th>0</th>\n",
       "      <td>892</td>\n",
       "      <td>0</td>\n",
       "      <td>3</td>\n",
       "      <td>Kelly, Mr. James</td>\n",
       "      <td>male</td>\n",
       "      <td>34.5</td>\n",
       "      <td>0</td>\n",
       "      <td>0</td>\n",
       "      <td>330911</td>\n",
       "      <td>7.8292</td>\n",
       "      <td>NaN</td>\n",
       "      <td>Q</td>\n",
       "    </tr>\n",
       "    <tr>\n",
       "      <th>1</th>\n",
       "      <td>893</td>\n",
       "      <td>1</td>\n",
       "      <td>3</td>\n",
       "      <td>Wilkes, Mrs. James (Ellen Needs)</td>\n",
       "      <td>female</td>\n",
       "      <td>47.0</td>\n",
       "      <td>1</td>\n",
       "      <td>0</td>\n",
       "      <td>363272</td>\n",
       "      <td>7.0000</td>\n",
       "      <td>NaN</td>\n",
       "      <td>S</td>\n",
       "    </tr>\n",
       "    <tr>\n",
       "      <th>2</th>\n",
       "      <td>894</td>\n",
       "      <td>0</td>\n",
       "      <td>2</td>\n",
       "      <td>Myles, Mr. Thomas Francis</td>\n",
       "      <td>male</td>\n",
       "      <td>62.0</td>\n",
       "      <td>0</td>\n",
       "      <td>0</td>\n",
       "      <td>240276</td>\n",
       "      <td>9.6875</td>\n",
       "      <td>NaN</td>\n",
       "      <td>Q</td>\n",
       "    </tr>\n",
       "    <tr>\n",
       "      <th>3</th>\n",
       "      <td>895</td>\n",
       "      <td>0</td>\n",
       "      <td>3</td>\n",
       "      <td>Wirz, Mr. Albert</td>\n",
       "      <td>male</td>\n",
       "      <td>27.0</td>\n",
       "      <td>0</td>\n",
       "      <td>0</td>\n",
       "      <td>315154</td>\n",
       "      <td>8.6625</td>\n",
       "      <td>NaN</td>\n",
       "      <td>S</td>\n",
       "    </tr>\n",
       "    <tr>\n",
       "      <th>4</th>\n",
       "      <td>896</td>\n",
       "      <td>1</td>\n",
       "      <td>3</td>\n",
       "      <td>Hirvonen, Mrs. Alexander (Helga E Lindqvist)</td>\n",
       "      <td>female</td>\n",
       "      <td>22.0</td>\n",
       "      <td>1</td>\n",
       "      <td>1</td>\n",
       "      <td>3101298</td>\n",
       "      <td>12.2875</td>\n",
       "      <td>NaN</td>\n",
       "      <td>S</td>\n",
       "    </tr>\n",
       "  </tbody>\n",
       "</table>\n",
       "</div>"
      ],
      "text/plain": [
       "   PassengerId  Survived  Pclass  \\\n",
       "0          892         0       3   \n",
       "1          893         1       3   \n",
       "2          894         0       2   \n",
       "3          895         0       3   \n",
       "4          896         1       3   \n",
       "\n",
       "                                           Name     Sex   Age  SibSp  Parch  \\\n",
       "0                              Kelly, Mr. James    male  34.5      0      0   \n",
       "1              Wilkes, Mrs. James (Ellen Needs)  female  47.0      1      0   \n",
       "2                     Myles, Mr. Thomas Francis    male  62.0      0      0   \n",
       "3                              Wirz, Mr. Albert    male  27.0      0      0   \n",
       "4  Hirvonen, Mrs. Alexander (Helga E Lindqvist)  female  22.0      1      1   \n",
       "\n",
       "    Ticket     Fare Cabin Embarked  \n",
       "0   330911   7.8292   NaN        Q  \n",
       "1   363272   7.0000   NaN        S  \n",
       "2   240276   9.6875   NaN        Q  \n",
       "3   315154   8.6625   NaN        S  \n",
       "4  3101298  12.2875   NaN        S  "
      ]
     },
     "execution_count": 1,
     "metadata": {},
     "output_type": "execute_result"
    }
   ],
   "source": [
    "import os\n",
    "import numpy as np \n",
    "import pandas as pd \n",
    "import matplotlib.pyplot as plt\n",
    "import seaborn as sns\n",
    "from sklearn.model_selection import train_test_split\n",
    "from sklearn.linear_model import LogisticRegression\n",
    "from sklearn.ensemble import RandomForestClassifier\n",
    "from sklearn.metrics import accuracy_score\n",
    "# iterating through directory \n",
    "for dir_name, _, file_names in os.walk('/kaggle/input'):\n",
    "    for file in file_names: \n",
    "        print(os.path.join(dir_name, file)) # printing full path of each file\n",
    "titanic_dataset= pd.read_csv('/kaggle/input/test-file/tested.csv') # read csv dataset\n",
    "titanic_dataset.head() # first 5 entries of dataset"
   ]
  },
  {
   "cell_type": "code",
   "execution_count": 2,
   "id": "cf290df0",
   "metadata": {
    "execution": {
     "iopub.execute_input": "2023-09-04T11:02:28.091644Z",
     "iopub.status.busy": "2023-09-04T11:02:28.091102Z",
     "iopub.status.idle": "2023-09-04T11:02:28.097964Z",
     "shell.execute_reply": "2023-09-04T11:02:28.096766Z"
    },
    "papermill": {
     "duration": 0.027302,
     "end_time": "2023-09-04T11:02:28.100917",
     "exception": false,
     "start_time": "2023-09-04T11:02:28.073615",
     "status": "completed"
    },
    "tags": []
   },
   "outputs": [
    {
     "name": "stdout",
     "output_type": "stream",
     "text": [
      "Index(['PassengerId', 'Survived', 'Pclass', 'Name', 'Sex', 'Age', 'SibSp',\n",
      "       'Parch', 'Ticket', 'Fare', 'Cabin', 'Embarked'],\n",
      "      dtype='object')\n"
     ]
    }
   ],
   "source": [
    "print(titanic_dataset.columns) # columns in dataset"
   ]
  },
  {
   "cell_type": "code",
   "execution_count": 3,
   "id": "b2f4fc81",
   "metadata": {
    "execution": {
     "iopub.execute_input": "2023-09-04T11:02:28.131603Z",
     "iopub.status.busy": "2023-09-04T11:02:28.130760Z",
     "iopub.status.idle": "2023-09-04T11:02:28.163365Z",
     "shell.execute_reply": "2023-09-04T11:02:28.161839Z"
    },
    "papermill": {
     "duration": 0.051527,
     "end_time": "2023-09-04T11:02:28.166442",
     "exception": false,
     "start_time": "2023-09-04T11:02:28.114915",
     "status": "completed"
    },
    "tags": []
   },
   "outputs": [
    {
     "name": "stdout",
     "output_type": "stream",
     "text": [
      "<class 'pandas.core.frame.DataFrame'>\n",
      "RangeIndex: 418 entries, 0 to 417\n",
      "Data columns (total 12 columns):\n",
      " #   Column       Non-Null Count  Dtype  \n",
      "---  ------       --------------  -----  \n",
      " 0   PassengerId  418 non-null    int64  \n",
      " 1   Survived     418 non-null    int64  \n",
      " 2   Pclass       418 non-null    int64  \n",
      " 3   Name         418 non-null    object \n",
      " 4   Sex          418 non-null    object \n",
      " 5   Age          332 non-null    float64\n",
      " 6   SibSp        418 non-null    int64  \n",
      " 7   Parch        418 non-null    int64  \n",
      " 8   Ticket       418 non-null    object \n",
      " 9   Fare         417 non-null    float64\n",
      " 10  Cabin        91 non-null     object \n",
      " 11  Embarked     418 non-null    object \n",
      "dtypes: float64(2), int64(5), object(5)\n",
      "memory usage: 39.3+ KB\n"
     ]
    }
   ],
   "source": [
    "titanic_dataset.info()"
   ]
  },
  {
   "cell_type": "code",
   "execution_count": 4,
   "id": "6acd2f73",
   "metadata": {
    "execution": {
     "iopub.execute_input": "2023-09-04T11:02:28.200629Z",
     "iopub.status.busy": "2023-09-04T11:02:28.199794Z",
     "iopub.status.idle": "2023-09-04T11:02:28.206746Z",
     "shell.execute_reply": "2023-09-04T11:02:28.205559Z"
    },
    "papermill": {
     "duration": 0.028084,
     "end_time": "2023-09-04T11:02:28.209354",
     "exception": false,
     "start_time": "2023-09-04T11:02:28.181270",
     "status": "completed"
    },
    "tags": []
   },
   "outputs": [
    {
     "name": "stdout",
     "output_type": "stream",
     "text": [
      "String -> Q\n",
      "String -> S\n",
      "String -> C\n"
     ]
    }
   ],
   "source": [
    "embarked_column_data= titanic_dataset['Embarked'].unique()\n",
    "for embarked in embarked_column_data:\n",
    "    print(\"String ->\",embarked)"
   ]
  },
  {
   "cell_type": "code",
   "execution_count": 5,
   "id": "e27491e0",
   "metadata": {
    "execution": {
     "iopub.execute_input": "2023-09-04T11:02:28.240802Z",
     "iopub.status.busy": "2023-09-04T11:02:28.239996Z",
     "iopub.status.idle": "2023-09-04T11:02:28.252339Z",
     "shell.execute_reply": "2023-09-04T11:02:28.250987Z"
    },
    "papermill": {
     "duration": 0.031531,
     "end_time": "2023-09-04T11:02:28.255259",
     "exception": false,
     "start_time": "2023-09-04T11:02:28.223728",
     "status": "completed"
    },
    "tags": []
   },
   "outputs": [],
   "source": [
    "# converting categorical data to numerical data, this will be used for model building\n",
    "titanic_dataset['Embarked']= titanic_dataset['Embarked'].map( {'Q': 0,'S':1,'C':2}).astype(int)\n",
    "titanic_dataset['Sex']= titanic_dataset['Sex'].map({'female': 1,'male':0}).astype(int)"
   ]
  },
  {
   "cell_type": "code",
   "execution_count": 6,
   "id": "8494d27a",
   "metadata": {
    "execution": {
     "iopub.execute_input": "2023-09-04T11:02:28.286505Z",
     "iopub.status.busy": "2023-09-04T11:02:28.286026Z",
     "iopub.status.idle": "2023-09-04T11:02:28.295546Z",
     "shell.execute_reply": "2023-09-04T11:02:28.293847Z"
    },
    "papermill": {
     "duration": 0.028926,
     "end_time": "2023-09-04T11:02:28.298702",
     "exception": false,
     "start_time": "2023-09-04T11:02:28.269776",
     "status": "completed"
    },
    "tags": []
   },
   "outputs": [],
   "source": [
    "# drop name and ticket columns\n",
    "titanic_dataset.drop(['Name','Ticket'], axis= 1, inplace= True) "
   ]
  },
  {
   "cell_type": "code",
   "execution_count": 7,
   "id": "16db8e39",
   "metadata": {
    "execution": {
     "iopub.execute_input": "2023-09-04T11:02:28.330958Z",
     "iopub.status.busy": "2023-09-04T11:02:28.330453Z",
     "iopub.status.idle": "2023-09-04T11:02:28.342956Z",
     "shell.execute_reply": "2023-09-04T11:02:28.342006Z"
    },
    "papermill": {
     "duration": 0.030972,
     "end_time": "2023-09-04T11:02:28.345229",
     "exception": false,
     "start_time": "2023-09-04T11:02:28.314257",
     "status": "completed"
    },
    "tags": []
   },
   "outputs": [
    {
     "data": {
      "text/plain": [
       "Survived       1.000000\n",
       "Sex            1.000000\n",
       "Fare           0.191514\n",
       "Parch          0.159120\n",
       "SibSp          0.099943\n",
       "Age           -0.000013\n",
       "PassengerId   -0.023245\n",
       "Embarked      -0.037432\n",
       "Pclass        -0.108615\n",
       "Name: Survived, dtype: float64"
      ]
     },
     "execution_count": 7,
     "metadata": {},
     "output_type": "execute_result"
    }
   ],
   "source": [
    "correlation= titanic_dataset.corr(numeric_only= True)\n",
    "correlation['Survived'].sort_values(ascending= False)"
   ]
  },
  {
   "cell_type": "code",
   "execution_count": 8,
   "id": "a266f94e",
   "metadata": {
    "execution": {
     "iopub.execute_input": "2023-09-04T11:02:28.376004Z",
     "iopub.status.busy": "2023-09-04T11:02:28.375494Z",
     "iopub.status.idle": "2023-09-04T11:02:28.382246Z",
     "shell.execute_reply": "2023-09-04T11:02:28.381039Z"
    },
    "papermill": {
     "duration": 0.025485,
     "end_time": "2023-09-04T11:02:28.384940",
     "exception": false,
     "start_time": "2023-09-04T11:02:28.359455",
     "status": "completed"
    },
    "tags": []
   },
   "outputs": [],
   "source": [
    "# new column family is calculated by adding sibling/spouses and parents/children data\n",
    "titanic_dataset['Family']= titanic_dataset['SibSp'] + titanic_dataset['Parch']"
   ]
  },
  {
   "cell_type": "code",
   "execution_count": 9,
   "id": "fad1462c",
   "metadata": {
    "execution": {
     "iopub.execute_input": "2023-09-04T11:02:28.416904Z",
     "iopub.status.busy": "2023-09-04T11:02:28.416376Z",
     "iopub.status.idle": "2023-09-04T11:02:28.428817Z",
     "shell.execute_reply": "2023-09-04T11:02:28.427441Z"
    },
    "papermill": {
     "duration": 0.032063,
     "end_time": "2023-09-04T11:02:28.431448",
     "exception": false,
     "start_time": "2023-09-04T11:02:28.399385",
     "status": "completed"
    },
    "tags": []
   },
   "outputs": [
    {
     "data": {
      "text/plain": [
       "Survived       1.000000\n",
       "Sex            1.000000\n",
       "Fare           0.191514\n",
       "Family         0.161803\n",
       "Parch          0.159120\n",
       "SibSp          0.099943\n",
       "Age           -0.000013\n",
       "PassengerId   -0.023245\n",
       "Embarked      -0.037432\n",
       "Pclass        -0.108615\n",
       "Name: Survived, dtype: float64"
      ]
     },
     "execution_count": 9,
     "metadata": {},
     "output_type": "execute_result"
    }
   ],
   "source": [
    "# determining correlation with family column added\n",
    "correlation= titanic_dataset.corr(numeric_only= True)\n",
    "correlation['Survived'].sort_values(ascending= False)"
   ]
  },
  {
   "cell_type": "markdown",
   "id": "145f0fc5",
   "metadata": {
    "papermill": {
     "duration": 0.014153,
     "end_time": "2023-09-04T11:02:28.460430",
     "exception": false,
     "start_time": "2023-09-04T11:02:28.446277",
     "status": "completed"
    },
    "tags": []
   },
   "source": [
    "Family column has a positive correlation of 0.161803 with Survived."
   ]
  },
  {
   "cell_type": "markdown",
   "id": "964371cb",
   "metadata": {
    "papermill": {
     "duration": 0.014351,
     "end_time": "2023-09-04T11:02:28.489799",
     "exception": false,
     "start_time": "2023-09-04T11:02:28.475448",
     "status": "completed"
    },
    "tags": []
   },
   "source": [
    "Since PassengerId does not have a meaningful impact on our prediction, we will drop it.\n",
    "Similarly, SibSp and Parch columns do not have any use for us, so we will drop them too."
   ]
  },
  {
   "cell_type": "code",
   "execution_count": 10,
   "id": "e6ffc021",
   "metadata": {
    "execution": {
     "iopub.execute_input": "2023-09-04T11:02:28.521649Z",
     "iopub.status.busy": "2023-09-04T11:02:28.520885Z",
     "iopub.status.idle": "2023-09-04T11:02:28.528700Z",
     "shell.execute_reply": "2023-09-04T11:02:28.527751Z"
    },
    "papermill": {
     "duration": 0.026996,
     "end_time": "2023-09-04T11:02:28.531364",
     "exception": false,
     "start_time": "2023-09-04T11:02:28.504368",
     "status": "completed"
    },
    "tags": []
   },
   "outputs": [],
   "source": [
    "titanic_dataset.drop(['SibSp', 'Parch', 'PassengerId'], axis=1, inplace=True)"
   ]
  },
  {
   "cell_type": "code",
   "execution_count": 11,
   "id": "2d1b05c8",
   "metadata": {
    "execution": {
     "iopub.execute_input": "2023-09-04T11:02:28.563987Z",
     "iopub.status.busy": "2023-09-04T11:02:28.563139Z",
     "iopub.status.idle": "2023-09-04T11:02:29.079771Z",
     "shell.execute_reply": "2023-09-04T11:02:29.078067Z"
    },
    "papermill": {
     "duration": 0.536569,
     "end_time": "2023-09-04T11:02:29.082832",
     "exception": false,
     "start_time": "2023-09-04T11:02:28.546263",
     "status": "completed"
    },
    "tags": []
   },
   "outputs": [
    {
     "data": {
      "image/png": "[encoded data removed]",
      "text/plain": [
       "<Figure size 640x480 with 2 Axes>"
      ]
     },
     "metadata": {},
     "output_type": "display_data"
    }
   ],
   "source": [
    "# correlation heatmap of numeric columns data\n",
    "correlation= titanic_dataset.corr(numeric_only= True)\n",
    "sns.heatmap(correlation, cmap= 'viridis', annot= True) # virdis colormap for data visualisation\n",
    "plt.show()"
   ]
  },
  {
   "cell_type": "code",
   "execution_count": 12,
   "id": "169c1140",
   "metadata": {
    "execution": {
     "iopub.execute_input": "2023-09-04T11:02:29.117217Z",
     "iopub.status.busy": "2023-09-04T11:02:29.116414Z",
     "iopub.status.idle": "2023-09-04T11:02:29.129951Z",
     "shell.execute_reply": "2023-09-04T11:02:29.128710Z"
    },
    "papermill": {
     "duration": 0.033975,
     "end_time": "2023-09-04T11:02:29.132519",
     "exception": false,
     "start_time": "2023-09-04T11:02:29.098544",
     "status": "completed"
    },
    "tags": []
   },
   "outputs": [
    {
     "data": {
      "text/html": [
       "<div>\n",
       "<style scoped>\n",
       "    .dataframe tbody tr th:only-of-type {\n",
       "        vertical-align: middle;\n",
       "    }\n",
       "\n",
       "    .dataframe tbody tr th {\n",
       "        vertical-align: top;\n",
       "    }\n",
       "\n",
       "    .dataframe thead th {\n",
       "        text-align: right;\n",
       "    }\n",
       "</style>\n",
       "<table border=\"1\" class=\"dataframe\">\n",
       "  <thead>\n",
       "    <tr style=\"text-align: right;\">\n",
       "      <th></th>\n",
       "      <th>Missing Data Points</th>\n",
       "    </tr>\n",
       "  </thead>\n",
       "  <tbody>\n",
       "    <tr>\n",
       "      <th>Survived</th>\n",
       "      <td>0</td>\n",
       "    </tr>\n",
       "    <tr>\n",
       "      <th>Pclass</th>\n",
       "      <td>0</td>\n",
       "    </tr>\n",
       "    <tr>\n",
       "      <th>Sex</th>\n",
       "      <td>0</td>\n",
       "    </tr>\n",
       "    <tr>\n",
       "      <th>Age</th>\n",
       "      <td>86</td>\n",
       "    </tr>\n",
       "    <tr>\n",
       "      <th>Fare</th>\n",
       "      <td>1</td>\n",
       "    </tr>\n",
       "    <tr>\n",
       "      <th>Cabin</th>\n",
       "      <td>327</td>\n",
       "    </tr>\n",
       "    <tr>\n",
       "      <th>Embarked</th>\n",
       "      <td>0</td>\n",
       "    </tr>\n",
       "    <tr>\n",
       "      <th>Family</th>\n",
       "      <td>0</td>\n",
       "    </tr>\n",
       "  </tbody>\n",
       "</table>\n",
       "</div>"
      ],
      "text/plain": [
       "          Missing Data Points\n",
       "Survived                    0\n",
       "Pclass                      0\n",
       "Sex                         0\n",
       "Age                        86\n",
       "Fare                        1\n",
       "Cabin                     327\n",
       "Embarked                    0\n",
       "Family                      0"
      ]
     },
     "execution_count": 12,
     "metadata": {},
     "output_type": "execute_result"
    }
   ],
   "source": [
    "# catering missing values in columns\n",
    "missing_data= titanic_dataset.isnull().sum()\n",
    "cleaned_dataset= pd.DataFrame({'Missing Data Points': missing_data.values}, index= titanic_dataset.columns)\n",
    "cleaned_dataset"
   ]
  },
  {
   "cell_type": "code",
   "execution_count": 13,
   "id": "55942787",
   "metadata": {
    "execution": {
     "iopub.execute_input": "2023-09-04T11:02:29.168073Z",
     "iopub.status.busy": "2023-09-04T11:02:29.167244Z",
     "iopub.status.idle": "2023-09-04T11:02:29.174218Z",
     "shell.execute_reply": "2023-09-04T11:02:29.173223Z"
    },
    "papermill": {
     "duration": 0.027377,
     "end_time": "2023-09-04T11:02:29.176629",
     "exception": false,
     "start_time": "2023-09-04T11:02:29.149252",
     "status": "completed"
    },
    "tags": []
   },
   "outputs": [],
   "source": [
    "# drop cabin column because it has too many null values\n",
    "titanic_dataset.drop(['Cabin'], axis= 1, inplace= True)"
   ]
  },
  {
   "cell_type": "markdown",
   "id": "c6c13ac3",
   "metadata": {
    "papermill": {
     "duration": 0.015406,
     "end_time": "2023-09-04T11:02:29.207816",
     "exception": false,
     "start_time": "2023-09-04T11:02:29.192410",
     "status": "completed"
    },
    "tags": []
   },
   "source": [
    "Now, we will fill missing values of age column with mean value."
   ]
  },
  {
   "cell_type": "code",
   "execution_count": 14,
   "id": "8ec9e45d",
   "metadata": {
    "execution": {
     "iopub.execute_input": "2023-09-04T11:02:29.242672Z",
     "iopub.status.busy": "2023-09-04T11:02:29.241869Z",
     "iopub.status.idle": "2023-09-04T11:02:29.249364Z",
     "shell.execute_reply": "2023-09-04T11:02:29.248006Z"
    },
    "papermill": {
     "duration": 0.028546,
     "end_time": "2023-09-04T11:02:29.252509",
     "exception": false,
     "start_time": "2023-09-04T11:02:29.223963",
     "status": "completed"
    },
    "tags": []
   },
   "outputs": [],
   "source": [
    "# filling missing data of age column with mean value\n",
    "age_column_mean= titanic_dataset['Age'].mean()\n",
    "titanic_dataset['Age'].fillna(age_column_mean, inplace= True)"
   ]
  },
  {
   "cell_type": "markdown",
   "id": "35bab44a",
   "metadata": {
    "papermill": {
     "duration": 0.016102,
     "end_time": "2023-09-04T11:02:29.285416",
     "exception": false,
     "start_time": "2023-09-04T11:02:29.269314",
     "status": "completed"
    },
    "tags": []
   },
   "source": [
    "Now, we will plot a histogram to visualise the age column after filling it.\n"
   ]
  },
  {
   "cell_type": "code",
   "execution_count": 15,
   "id": "ce5801ed",
   "metadata": {
    "execution": {
     "iopub.execute_input": "2023-09-04T11:02:29.319728Z",
     "iopub.status.busy": "2023-09-04T11:02:29.319213Z",
     "iopub.status.idle": "2023-09-04T11:02:29.785999Z",
     "shell.execute_reply": "2023-09-04T11:02:29.784732Z"
    },
    "papermill": {
     "duration": 0.487148,
     "end_time": "2023-09-04T11:02:29.788573",
     "exception": false,
     "start_time": "2023-09-04T11:02:29.301425",
     "status": "completed"
    },
    "tags": []
   },
   "outputs": [
    {
     "data": {
      "image/png": "[encoded data removed]",
      "text/plain": [
       "<Figure size 1000x500 with 1 Axes>"
      ]
     },
     "metadata": {},
     "output_type": "display_data"
    }
   ],
   "source": [
    "# plotting histogram \n",
    "plt.figure(figsize= (10, 5))\n",
    "sns.histplot(titanic_dataset['Age'], kde= True, color= 'blue')\n",
    "plt.title('After Filling Missing Data Points')\n",
    "plt.xlabel('Age')\n",
    "plt.ylabel('Value')\n",
    "plt.show()"
   ]
  },
  {
   "cell_type": "markdown",
   "id": "e3f914a5",
   "metadata": {
    "papermill": {
     "duration": 0.016745,
     "end_time": "2023-09-04T11:02:29.821937",
     "exception": false,
     "start_time": "2023-09-04T11:02:29.805192",
     "status": "completed"
    },
    "tags": []
   },
   "source": [
    "Fare column has 1 missing value, we will calculate the median and fill it with the value."
   ]
  },
  {
   "cell_type": "code",
   "execution_count": 16,
   "id": "d632c6e6",
   "metadata": {
    "execution": {
     "iopub.execute_input": "2023-09-04T11:02:29.856554Z",
     "iopub.status.busy": "2023-09-04T11:02:29.856008Z",
     "iopub.status.idle": "2023-09-04T11:02:29.865485Z",
     "shell.execute_reply": "2023-09-04T11:02:29.864447Z"
    },
    "papermill": {
     "duration": 0.02992,
     "end_time": "2023-09-04T11:02:29.868057",
     "exception": false,
     "start_time": "2023-09-04T11:02:29.838137",
     "status": "completed"
    },
    "tags": []
   },
   "outputs": [],
   "source": [
    "# filling missing data of age column with mean value\n",
    "fare_median= titanic_dataset['Fare'].median()\n",
    "titanic_dataset['Fare'].fillna(fare_median, inplace= True)"
   ]
  },
  {
   "cell_type": "code",
   "execution_count": 17,
   "id": "26d0c6c7",
   "metadata": {
    "execution": {
     "iopub.execute_input": "2023-09-04T11:02:29.903445Z",
     "iopub.status.busy": "2023-09-04T11:02:29.902751Z",
     "iopub.status.idle": "2023-09-04T11:02:29.915431Z",
     "shell.execute_reply": "2023-09-04T11:02:29.914210Z"
    },
    "papermill": {
     "duration": 0.033989,
     "end_time": "2023-09-04T11:02:29.918313",
     "exception": false,
     "start_time": "2023-09-04T11:02:29.884324",
     "status": "completed"
    },
    "tags": []
   },
   "outputs": [
    {
     "data": {
      "text/html": [
       "<div>\n",
       "<style scoped>\n",
       "    .dataframe tbody tr th:only-of-type {\n",
       "        vertical-align: middle;\n",
       "    }\n",
       "\n",
       "    .dataframe tbody tr th {\n",
       "        vertical-align: top;\n",
       "    }\n",
       "\n",
       "    .dataframe thead th {\n",
       "        text-align: right;\n",
       "    }\n",
       "</style>\n",
       "<table border=\"1\" class=\"dataframe\">\n",
       "  <thead>\n",
       "    <tr style=\"text-align: right;\">\n",
       "      <th></th>\n",
       "      <th>Missing Data Points</th>\n",
       "    </tr>\n",
       "  </thead>\n",
       "  <tbody>\n",
       "    <tr>\n",
       "      <th>Survived</th>\n",
       "      <td>0</td>\n",
       "    </tr>\n",
       "    <tr>\n",
       "      <th>Pclass</th>\n",
       "      <td>0</td>\n",
       "    </tr>\n",
       "    <tr>\n",
       "      <th>Sex</th>\n",
       "      <td>0</td>\n",
       "    </tr>\n",
       "    <tr>\n",
       "      <th>Age</th>\n",
       "      <td>0</td>\n",
       "    </tr>\n",
       "    <tr>\n",
       "      <th>Fare</th>\n",
       "      <td>0</td>\n",
       "    </tr>\n",
       "    <tr>\n",
       "      <th>Embarked</th>\n",
       "      <td>0</td>\n",
       "    </tr>\n",
       "    <tr>\n",
       "      <th>Family</th>\n",
       "      <td>0</td>\n",
       "    </tr>\n",
       "  </tbody>\n",
       "</table>\n",
       "</div>"
      ],
      "text/plain": [
       "          Missing Data Points\n",
       "Survived                    0\n",
       "Pclass                      0\n",
       "Sex                         0\n",
       "Age                         0\n",
       "Fare                        0\n",
       "Embarked                    0\n",
       "Family                      0"
      ]
     },
     "execution_count": 17,
     "metadata": {},
     "output_type": "execute_result"
    }
   ],
   "source": [
    "# catering missing values in columns\n",
    "missing_data= titanic_dataset.isnull().sum()\n",
    "cleaned_dataset= pd.DataFrame({'Missing Data Points': missing_data.values}, index= titanic_dataset.columns)\n",
    "cleaned_dataset"
   ]
  },
  {
   "cell_type": "markdown",
   "id": "aace81cb",
   "metadata": {
    "papermill": {
     "duration": 0.016411,
     "end_time": "2023-09-04T11:02:29.951828",
     "exception": false,
     "start_time": "2023-09-04T11:02:29.935417",
     "status": "completed"
    },
    "tags": []
   },
   "source": [
    "Now that the dataset is cleaned, we can move on.\n",
    "From the following plot, we can see the relation between Age and Survival. For each age group, the graph visualises the survivals. The highest number of survivors are from age group 40 to 60, while the lowest age group is 70."
   ]
  },
  {
   "cell_type": "code",
   "execution_count": 18,
   "id": "6572f15a",
   "metadata": {
    "execution": {
     "iopub.execute_input": "2023-09-04T11:02:30.088963Z",
     "iopub.status.busy": "2023-09-04T11:02:30.088302Z",
     "iopub.status.idle": "2023-09-04T11:02:30.547423Z",
     "shell.execute_reply": "2023-09-04T11:02:30.546018Z"
    },
    "papermill": {
     "duration": 0.481355,
     "end_time": "2023-09-04T11:02:30.550288",
     "exception": false,
     "start_time": "2023-09-04T11:02:30.068933",
     "status": "completed"
    },
    "tags": []
   },
   "outputs": [
    {
     "data": {
      "text/plain": [
       "<matplotlib.legend.Legend at 0x785e481f4850>"
      ]
     },
     "execution_count": 18,
     "metadata": {},
     "output_type": "execute_result"
    },
    {
     "data": {
      "image/png": "[encoded data removed]",
      "text/plain": [
       "<Figure size 1000x400 with 1 Axes>"
      ]
     },
     "metadata": {},
     "output_type": "display_data"
    }
   ],
   "source": [
    "figure= plt.figure(figsize =(10, 4))\n",
    "plt.hist(x= [titanic_dataset[titanic_dataset['Survived'] ==1 ]['Age'], titanic_dataset[titanic_dataset['Survived'] == 0]['Age']], stacked= False, color= ['c','k'],label = ['Survived', 'Not survived'])\n",
    "plt.title('Age and Survival Histogram')\n",
    "plt.xlabel('Age')\n",
    "plt.ylabel('Number of Passengers')\n",
    "plt.legend()"
   ]
  },
  {
   "cell_type": "markdown",
   "id": "94a94e39",
   "metadata": {
    "papermill": {
     "duration": 0.017288,
     "end_time": "2023-09-04T11:02:30.586016",
     "exception": false,
     "start_time": "2023-09-04T11:02:30.568728",
     "status": "completed"
    },
    "tags": []
   },
   "source": [
    "With the help of a bar chart, we will see the number of people who survived and those who didn't survive."
   ]
  },
  {
   "cell_type": "code",
   "execution_count": 19,
   "id": "a4ce45e8",
   "metadata": {
    "execution": {
     "iopub.execute_input": "2023-09-04T11:02:30.624352Z",
     "iopub.status.busy": "2023-09-04T11:02:30.623876Z",
     "iopub.status.idle": "2023-09-04T11:02:30.912328Z",
     "shell.execute_reply": "2023-09-04T11:02:30.910949Z"
    },
    "papermill": {
     "duration": 0.311475,
     "end_time": "2023-09-04T11:02:30.915321",
     "exception": false,
     "start_time": "2023-09-04T11:02:30.603846",
     "status": "completed"
    },
    "tags": []
   },
   "outputs": [
    {
     "data": {
      "image/png": "[encoded data removed]",
      "text/plain": [
       "<Figure size 640x480 with 1 Axes>"
      ]
     },
     "metadata": {},
     "output_type": "display_data"
    }
   ],
   "source": [
    "# plotting a bar chart\n",
    "survival_cases= titanic_dataset['Survived'].value_counts()\n",
    "survival_cases.plot(kind= 'bar', rot=0)\n",
    "# adding labels and title\n",
    "plt.xlabel('Survived')\n",
    "plt.ylabel('Total Count')\n",
    "plt.title('Survival Cases (0 = No, 1 = Yes)')\n",
    "plt.show()"
   ]
  },
  {
   "cell_type": "markdown",
   "id": "9a65fe97",
   "metadata": {
    "papermill": {
     "duration": 0.017696,
     "end_time": "2023-09-04T11:02:30.951156",
     "exception": false,
     "start_time": "2023-09-04T11:02:30.933460",
     "status": "completed"
    },
    "tags": []
   },
   "source": [
    "With the help of a bar plot, we will judge the relation of pclass and survival."
   ]
  },
  {
   "cell_type": "code",
   "execution_count": 20,
   "id": "0c37c06b",
   "metadata": {
    "execution": {
     "iopub.execute_input": "2023-09-04T11:02:30.991295Z",
     "iopub.status.busy": "2023-09-04T11:02:30.990811Z",
     "iopub.status.idle": "2023-09-04T11:02:31.360548Z",
     "shell.execute_reply": "2023-09-04T11:02:31.359277Z"
    },
    "papermill": {
     "duration": 0.392841,
     "end_time": "2023-09-04T11:02:31.363082",
     "exception": false,
     "start_time": "2023-09-04T11:02:30.970241",
     "status": "completed"
    },
    "tags": []
   },
   "outputs": [
    {
     "data": {
      "text/plain": [
       "<Axes: xlabel='Pclass', ylabel='Survived'>"
      ]
     },
     "execution_count": 20,
     "metadata": {},
     "output_type": "execute_result"
    },
    {
     "data": {
      "image/png": "[encoded data removed]",
      "text/plain": [
       "<Figure size 640x480 with 1 Axes>"
      ]
     },
     "metadata": {},
     "output_type": "display_data"
    }
   ],
   "source": [
    "# pclass plot\n",
    "sns.barplot(x= 'Pclass', y= 'Survived', data=titanic_dataset)"
   ]
  },
  {
   "cell_type": "markdown",
   "id": "417d9369",
   "metadata": {
    "papermill": {
     "duration": 0.018219,
     "end_time": "2023-09-04T11:02:31.400632",
     "exception": false,
     "start_time": "2023-09-04T11:02:31.382413",
     "status": "completed"
    },
    "tags": []
   },
   "source": [
    "Pclass is correlated with the chances of a passenger's survival, especially if it's class 1."
   ]
  },
  {
   "cell_type": "code",
   "execution_count": 21,
   "id": "2ad04918",
   "metadata": {
    "execution": {
     "iopub.execute_input": "2023-09-04T11:02:31.440096Z",
     "iopub.status.busy": "2023-09-04T11:02:31.439630Z",
     "iopub.status.idle": "2023-09-04T11:02:34.269867Z",
     "shell.execute_reply": "2023-09-04T11:02:34.268334Z"
    },
    "papermill": {
     "duration": 2.853628,
     "end_time": "2023-09-04T11:02:34.272794",
     "exception": false,
     "start_time": "2023-09-04T11:02:31.419166",
     "status": "completed"
    },
    "tags": []
   },
   "outputs": [
    {
     "name": "stderr",
     "output_type": "stream",
     "text": [
      "/opt/conda/lib/python3.10/site-packages/seaborn/axisgrid.py:118: UserWarning: The figure layout has changed to tight\n",
      "  self._figure.tight_layout(*args, **kwargs)\n"
     ]
    },
    {
     "data": {
      "image/png": "[encoded data removed]",
      "text/plain": [
       "<Figure size 715.111x660 with 6 Axes>"
      ]
     },
     "metadata": {},
     "output_type": "display_data"
    }
   ],
   "source": [
    "grid = sns.FacetGrid(titanic_dataset, col= 'Survived', row= 'Pclass', height= 2.2, aspect= 1.6)\n",
    "grid.map(plt.hist, 'Age', alpha= 0.5, bins= 20)\n",
    "grid.add_legend()\n",
    "plt.show()"
   ]
  },
  {
   "cell_type": "markdown",
   "id": "9577f0eb",
   "metadata": {
    "papermill": {
     "duration": 0.018627,
     "end_time": "2023-09-04T11:02:34.310855",
     "exception": false,
     "start_time": "2023-09-04T11:02:34.292228",
     "status": "completed"
    },
    "tags": []
   },
   "source": [
    "This plot is evidence of the relation between survival probability and a passenger's class. Moreover, survival rate in class 3 is next to none."
   ]
  },
  {
   "cell_type": "markdown",
   "id": "2d28332d",
   "metadata": {
    "papermill": {
     "duration": 0.018323,
     "end_time": "2023-09-04T11:02:34.348069",
     "exception": false,
     "start_time": "2023-09-04T11:02:34.329746",
     "status": "completed"
    },
    "tags": []
   },
   "source": [
    "We can now have a final look at our dataset before moving on to **model building**."
   ]
  },
  {
   "cell_type": "code",
   "execution_count": 22,
   "id": "9bf474ee",
   "metadata": {
    "execution": {
     "iopub.execute_input": "2023-09-04T11:02:34.389107Z",
     "iopub.status.busy": "2023-09-04T11:02:34.388597Z",
     "iopub.status.idle": "2023-09-04T11:02:34.406197Z",
     "shell.execute_reply": "2023-09-04T11:02:34.404870Z"
    },
    "papermill": {
     "duration": 0.041153,
     "end_time": "2023-09-04T11:02:34.408755",
     "exception": false,
     "start_time": "2023-09-04T11:02:34.367602",
     "status": "completed"
    },
    "tags": []
   },
   "outputs": [
    {
     "data": {
      "text/html": [
       "<div>\n",
       "<style scoped>\n",
       "    .dataframe tbody tr th:only-of-type {\n",
       "        vertical-align: middle;\n",
       "    }\n",
       "\n",
       "    .dataframe tbody tr th {\n",
       "        vertical-align: top;\n",
       "    }\n",
       "\n",
       "    .dataframe thead th {\n",
       "        text-align: right;\n",
       "    }\n",
       "</style>\n",
       "<table border=\"1\" class=\"dataframe\">\n",
       "  <thead>\n",
       "    <tr style=\"text-align: right;\">\n",
       "      <th></th>\n",
       "      <th>Survived</th>\n",
       "      <th>Pclass</th>\n",
       "      <th>Sex</th>\n",
       "      <th>Age</th>\n",
       "      <th>Fare</th>\n",
       "      <th>Embarked</th>\n",
       "      <th>Family</th>\n",
       "    </tr>\n",
       "  </thead>\n",
       "  <tbody>\n",
       "    <tr>\n",
       "      <th>0</th>\n",
       "      <td>0</td>\n",
       "      <td>3</td>\n",
       "      <td>0</td>\n",
       "      <td>34.5</td>\n",
       "      <td>7.8292</td>\n",
       "      <td>0</td>\n",
       "      <td>0</td>\n",
       "    </tr>\n",
       "    <tr>\n",
       "      <th>1</th>\n",
       "      <td>1</td>\n",
       "      <td>3</td>\n",
       "      <td>1</td>\n",
       "      <td>47.0</td>\n",
       "      <td>7.0000</td>\n",
       "      <td>1</td>\n",
       "      <td>1</td>\n",
       "    </tr>\n",
       "    <tr>\n",
       "      <th>2</th>\n",
       "      <td>0</td>\n",
       "      <td>2</td>\n",
       "      <td>0</td>\n",
       "      <td>62.0</td>\n",
       "      <td>9.6875</td>\n",
       "      <td>0</td>\n",
       "      <td>0</td>\n",
       "    </tr>\n",
       "    <tr>\n",
       "      <th>3</th>\n",
       "      <td>0</td>\n",
       "      <td>3</td>\n",
       "      <td>0</td>\n",
       "      <td>27.0</td>\n",
       "      <td>8.6625</td>\n",
       "      <td>1</td>\n",
       "      <td>0</td>\n",
       "    </tr>\n",
       "    <tr>\n",
       "      <th>4</th>\n",
       "      <td>1</td>\n",
       "      <td>3</td>\n",
       "      <td>1</td>\n",
       "      <td>22.0</td>\n",
       "      <td>12.2875</td>\n",
       "      <td>1</td>\n",
       "      <td>2</td>\n",
       "    </tr>\n",
       "    <tr>\n",
       "      <th>5</th>\n",
       "      <td>0</td>\n",
       "      <td>3</td>\n",
       "      <td>0</td>\n",
       "      <td>14.0</td>\n",
       "      <td>9.2250</td>\n",
       "      <td>1</td>\n",
       "      <td>0</td>\n",
       "    </tr>\n",
       "    <tr>\n",
       "      <th>6</th>\n",
       "      <td>1</td>\n",
       "      <td>3</td>\n",
       "      <td>1</td>\n",
       "      <td>30.0</td>\n",
       "      <td>7.6292</td>\n",
       "      <td>0</td>\n",
       "      <td>0</td>\n",
       "    </tr>\n",
       "    <tr>\n",
       "      <th>7</th>\n",
       "      <td>0</td>\n",
       "      <td>2</td>\n",
       "      <td>0</td>\n",
       "      <td>26.0</td>\n",
       "      <td>29.0000</td>\n",
       "      <td>1</td>\n",
       "      <td>2</td>\n",
       "    </tr>\n",
       "    <tr>\n",
       "      <th>8</th>\n",
       "      <td>1</td>\n",
       "      <td>3</td>\n",
       "      <td>1</td>\n",
       "      <td>18.0</td>\n",
       "      <td>7.2292</td>\n",
       "      <td>2</td>\n",
       "      <td>0</td>\n",
       "    </tr>\n",
       "    <tr>\n",
       "      <th>9</th>\n",
       "      <td>0</td>\n",
       "      <td>3</td>\n",
       "      <td>0</td>\n",
       "      <td>21.0</td>\n",
       "      <td>24.1500</td>\n",
       "      <td>1</td>\n",
       "      <td>2</td>\n",
       "    </tr>\n",
       "  </tbody>\n",
       "</table>\n",
       "</div>"
      ],
      "text/plain": [
       "   Survived  Pclass  Sex   Age     Fare  Embarked  Family\n",
       "0         0       3    0  34.5   7.8292         0       0\n",
       "1         1       3    1  47.0   7.0000         1       1\n",
       "2         0       2    0  62.0   9.6875         0       0\n",
       "3         0       3    0  27.0   8.6625         1       0\n",
       "4         1       3    1  22.0  12.2875         1       2\n",
       "5         0       3    0  14.0   9.2250         1       0\n",
       "6         1       3    1  30.0   7.6292         0       0\n",
       "7         0       2    0  26.0  29.0000         1       2\n",
       "8         1       3    1  18.0   7.2292         2       0\n",
       "9         0       3    0  21.0  24.1500         1       2"
      ]
     },
     "execution_count": 22,
     "metadata": {},
     "output_type": "execute_result"
    }
   ],
   "source": [
    "titanic_dataset.head(10)"
   ]
  },
  {
   "cell_type": "markdown",
   "id": "3c7fe8f2",
   "metadata": {
    "papermill": {
     "duration": 0.018751,
     "end_time": "2023-09-04T11:02:34.446852",
     "exception": false,
     "start_time": "2023-09-04T11:02:34.428101",
     "status": "completed"
    },
    "tags": []
   },
   "source": [
    "**Splitting the dataset into training and testing sets.**"
   ]
  },
  {
   "cell_type": "code",
   "execution_count": 23,
   "id": "0d0c5024",
   "metadata": {
    "execution": {
     "iopub.execute_input": "2023-09-04T11:02:34.487115Z",
     "iopub.status.busy": "2023-09-04T11:02:34.486688Z",
     "iopub.status.idle": "2023-09-04T11:02:34.497536Z",
     "shell.execute_reply": "2023-09-04T11:02:34.496148Z"
    },
    "papermill": {
     "duration": 0.034293,
     "end_time": "2023-09-04T11:02:34.500335",
     "exception": false,
     "start_time": "2023-09-04T11:02:34.466042",
     "status": "completed"
    },
    "tags": []
   },
   "outputs": [],
   "source": [
    "# drop survived column for training data\n",
    "training_data= titanic_dataset.drop(['Survived'], axis=1)\n",
    "# keep only the survived column for testing data \n",
    "testing_data= titanic_dataset.iloc[:,1]\n",
    "# splitting the data, 20% for testing\n",
    "x_train, x_test, y_train, y_test= train_test_split(training_data, testing_data, test_size= 0.2, random_state= 1)"
   ]
  },
  {
   "cell_type": "markdown",
   "id": "66c6c861",
   "metadata": {
    "papermill": {
     "duration": 0.019452,
     "end_time": "2023-09-04T11:02:34.539638",
     "exception": false,
     "start_time": "2023-09-04T11:02:34.520186",
     "status": "completed"
    },
    "tags": []
   },
   "source": [
    "**Logistic Regression**"
   ]
  },
  {
   "cell_type": "code",
   "execution_count": 24,
   "id": "02f172a5",
   "metadata": {
    "execution": {
     "iopub.execute_input": "2023-09-04T11:02:34.580513Z",
     "iopub.status.busy": "2023-09-04T11:02:34.580091Z",
     "iopub.status.idle": "2023-09-04T11:02:34.599844Z",
     "shell.execute_reply": "2023-09-04T11:02:34.598269Z"
    },
    "papermill": {
     "duration": 0.043013,
     "end_time": "2023-09-04T11:02:34.602231",
     "exception": false,
     "start_time": "2023-09-04T11:02:34.559218",
     "status": "completed"
    },
    "tags": []
   },
   "outputs": [
    {
     "name": "stdout",
     "output_type": "stream",
     "text": [
      "95.24%\n"
     ]
    }
   ],
   "source": [
    "lr= LogisticRegression(solver= 'liblinear', max_iter= 200)\n",
    "lr.fit(x_train, y_train) # fit the model on training data\n",
    "predictor= lr.predict(x_test) # prediction on test data\n",
    "lr_accuracy= accuracy_score(predictor, y_test) # calculating accuracy score\n",
    "print('{:.2f}%'.format(lr_accuracy * 100))"
   ]
  },
  {
   "cell_type": "markdown",
   "id": "5d482dc0",
   "metadata": {
    "papermill": {
     "duration": 0.01904,
     "end_time": "2023-09-04T11:02:34.640879",
     "exception": false,
     "start_time": "2023-09-04T11:02:34.621839",
     "status": "completed"
    },
    "tags": []
   },
   "source": [
    "**Random Forest Model**"
   ]
  },
  {
   "cell_type": "code",
   "execution_count": 25,
   "id": "f305d6aa",
   "metadata": {
    "execution": {
     "iopub.execute_input": "2023-09-04T11:02:34.682148Z",
     "iopub.status.busy": "2023-09-04T11:02:34.681087Z",
     "iopub.status.idle": "2023-09-04T11:02:34.964909Z",
     "shell.execute_reply": "2023-09-04T11:02:34.963236Z"
    },
    "papermill": {
     "duration": 0.307894,
     "end_time": "2023-09-04T11:02:34.968198",
     "exception": false,
     "start_time": "2023-09-04T11:02:34.660304",
     "status": "completed"
    },
    "tags": []
   },
   "outputs": [
    {
     "name": "stdout",
     "output_type": "stream",
     "text": [
      "100.00%\n"
     ]
    }
   ],
   "source": [
    "random_forest= RandomForestClassifier(n_estimators= 100)\n",
    "random_forest.fit(x_train, y_train) # fit the model on training data\n",
    "predictor= random_forest.predict(x_test) # prediction on test data\n",
    "random_forest.score(x_train, y_train) \n",
    "random_forest_accuracy= round(random_forest.score(x_train, y_train))\n",
    "print('{:.2f}%'.format(random_forest_accuracy * 100))"
   ]
  }
 ],
 "kernelspec": {
  "display_name": "Python 3",
  "language": "python",
  "name": "python3"
 },
 "language_info": {
  "codemirror_mode": {
   "name": "ipython",
   "version": 3
  },
  "file_extension": ".py",
  "mimetype": "text/x-python",
  "name": "python",
  "nbconvert_exporter": "python",
  "pygments_lexer": "ipython3",
  "version": "3.6.4"
 },
 "metadata": {
  "kernelspec": {
   "display_name": "Python 3",
   "language": "python",
   "name": "python3"
  },
  "language_info": {
   "codemirror_mode": {
    "name": "ipython",
    "version": 3
   },
   "file_extension": ".py",
   "mimetype": "text/x-python",
   "name": "python",
   "nbconvert_exporter": "python",
   "pygments_lexer": "ipython3",
   "version": "3.10.12"
  },
  "papermill": {
   "default_parameters": {},
   "duration": 16.43776,
   "end_time": "2023-09-04T11:02:35.814851",
   "environment_variables": {},
   "exception": null,
   "input_path": "__notebook__.ipynb",
   "output_path": "__notebook__.ipynb",
   "parameters": {},
   "start_time": "2023-09-04T11:02:19.377091",
   "version": "2.4.0"
  }
 },
 "nbformat": 4,
 "nbformat_minor": 5
}
